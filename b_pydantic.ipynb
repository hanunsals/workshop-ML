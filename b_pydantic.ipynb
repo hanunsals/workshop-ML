{
 "cells": [
  {
   "cell_type": "code",
   "execution_count": 1,
   "metadata": {},
   "outputs": [],
   "source": [
    "from b_pydantic import Employee_b"
   ]
  },
  {
   "cell_type": "code",
   "execution_count": 6,
   "metadata": {},
   "outputs": [
    {
     "data": {
      "text/plain": [
       "Employee_b(name='Chris Martin', email='chris@gmail.com', date_of_birth=datetime.date(1998, 1, 1), salary=123000.0, department=<Department.IT: 'IT'>, elected_benefits=True)"
      ]
     },
     "execution_count": 6,
     "metadata": {},
     "output_type": "execute_result"
    }
   ],
   "source": [
    "Employee_b(\n",
    "    name = \"Chris Martin\",\n",
    "    email = \"chris@gmail.com\",\n",
    "    date_of_birth = \"1998-01-01\",\n",
    "    salary= 123_000.00,\n",
    "    department= \"IT\",\n",
    "    elected_benefits= True,\n",
    ")"
   ]
  }
 ],
 "metadata": {
  "kernelspec": {
   "display_name": "Python 3",
   "language": "python",
   "name": "python3"
  },
  "language_info": {
   "codemirror_mode": {
    "name": "ipython",
    "version": 3
   },
   "file_extension": ".py",
   "mimetype": "text/x-python",
   "name": "python",
   "nbconvert_exporter": "python",
   "pygments_lexer": "ipython3",
   "version": "3.11.4"
  },
  "orig_nbformat": 4
 },
 "nbformat": 4,
 "nbformat_minor": 2
}
